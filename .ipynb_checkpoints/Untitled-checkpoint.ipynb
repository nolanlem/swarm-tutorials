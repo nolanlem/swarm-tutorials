{
 "cells": [
  {
   "cell_type": "code",
   "execution_count": 1,
   "metadata": {},
   "outputs": [],
   "source": [
    "import numpy as np\n",
    "import matplotlib.pyplot as plt\n",
    "import librosa \n"
   ]
  },
  {
   "cell_type": "code",
   "execution_count": null,
   "metadata": {},
   "outputs": [],
   "source": []
  },
  {
   "cell_type": "code",
   "execution_count": null,
   "metadata": {},
   "outputs": [],
   "source": []
  },
  {
   "cell_type": "code",
   "execution_count": null,
   "metadata": {},
   "outputs": [],
   "source": [
    "# how can we experiment with timbre using the same sound as a source material? \n",
    "# what sound do you think would sound interesting if you heard a lot of them?\n",
    "# how can we better create a dynamic, sounding environment using just one sound? \n",
    "# spatial effects, variations in vol...\n",
    "# a cricket chirping on it's own isn't that interesting but when you have thousands of them\n",
    "# interacting, the sound synergizes to create a naturalistic, atmospheric soundscape"
   ]
  },
  {
   "cell_type": "code",
   "execution_count": null,
   "metadata": {},
   "outputs": [],
   "source": [
    "# let's import a sound and then combine multiple sources of them to see what it sounds like \n",
    "\n",
    "b = [] # create empty array to hold a bunch of instances of the same source sound \n",
    "sourcesndfile = \"./audio/cricket-chirp-event.wav\" # cricket chirp! \n",
    "\n",
    "N = 100 # how about 100 crickets? \n",
    "\n",
    "for i in range(N):\n",
    "    rate = np.random.random()\n",
    "    thesnd = librosa.load(sourcesndfile, sr=)"
   ]
  }
 ],
 "metadata": {
  "kernelspec": {
   "display_name": "Python 2",
   "language": "python",
   "name": "python2"
  },
  "language_info": {
   "codemirror_mode": {
    "name": "ipython",
    "version": 2
   },
   "file_extension": ".py",
   "mimetype": "text/x-python",
   "name": "python",
   "nbconvert_exporter": "python",
   "pygments_lexer": "ipython2",
   "version": "2.7.16"
  }
 },
 "nbformat": 4,
 "nbformat_minor": 2
}
